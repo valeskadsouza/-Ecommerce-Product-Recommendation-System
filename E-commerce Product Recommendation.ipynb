{
 "cells": [
  {
   "cell_type": "code",
   "execution_count": 54,
   "id": "3c624535",
   "metadata": {},
   "outputs": [],
   "source": [
    "# importing libraries\n",
    "\n",
    "import numpy as np\n",
    "import pandas as pd\n",
    "import matplotlib.pyplot as plt\n",
    "import seaborn as sns\n",
    "\n",
    "from sklearn.metrics.pairwise import cosine_similarity\n",
    "from sklearn.metrics import mean_squared_error\n",
    "from scipy.sparse.linalg import svds"
   ]
  },
  {
   "cell_type": "code",
   "execution_count": 55,
   "id": "909408e0",
   "metadata": {},
   "outputs": [
    {
     "data": {
      "text/html": [
       "<div>\n",
       "<style scoped>\n",
       "    .dataframe tbody tr th:only-of-type {\n",
       "        vertical-align: middle;\n",
       "    }\n",
       "\n",
       "    .dataframe tbody tr th {\n",
       "        vertical-align: top;\n",
       "    }\n",
       "\n",
       "    .dataframe thead th {\n",
       "        text-align: right;\n",
       "    }\n",
       "</style>\n",
       "<table border=\"1\" class=\"dataframe\">\n",
       "  <thead>\n",
       "    <tr style=\"text-align: right;\">\n",
       "      <th></th>\n",
       "      <th>userid</th>\n",
       "      <th>productid</th>\n",
       "      <th>rating</th>\n",
       "      <th>timestamp</th>\n",
       "    </tr>\n",
       "  </thead>\n",
       "  <tbody>\n",
       "    <tr>\n",
       "      <th>0</th>\n",
       "      <td>A2NWSAGRHCP8N5</td>\n",
       "      <td>321732944</td>\n",
       "      <td>5</td>\n",
       "      <td>1341100800</td>\n",
       "    </tr>\n",
       "    <tr>\n",
       "      <th>1</th>\n",
       "      <td>A2WNBOD3WNDNKT</td>\n",
       "      <td>439886341</td>\n",
       "      <td>1</td>\n",
       "      <td>1367193600</td>\n",
       "    </tr>\n",
       "    <tr>\n",
       "      <th>2</th>\n",
       "      <td>A1GI0U4ZRJA8WN</td>\n",
       "      <td>439886341</td>\n",
       "      <td>3</td>\n",
       "      <td>1374451200</td>\n",
       "    </tr>\n",
       "    <tr>\n",
       "      <th>3</th>\n",
       "      <td>A1QGNMC6O1VW39</td>\n",
       "      <td>439886341</td>\n",
       "      <td>1</td>\n",
       "      <td>1334707200</td>\n",
       "    </tr>\n",
       "    <tr>\n",
       "      <th>4</th>\n",
       "      <td>A3J3BRHTDRFJ2G</td>\n",
       "      <td>511189877</td>\n",
       "      <td>5</td>\n",
       "      <td>1397433600</td>\n",
       "    </tr>\n",
       "  </tbody>\n",
       "</table>\n",
       "</div>"
      ],
      "text/plain": [
       "           userid  productid  rating   timestamp\n",
       "0  A2NWSAGRHCP8N5  321732944       5  1341100800\n",
       "1  A2WNBOD3WNDNKT  439886341       1  1367193600\n",
       "2  A1GI0U4ZRJA8WN  439886341       3  1374451200\n",
       "3  A1QGNMC6O1VW39  439886341       1  1334707200\n",
       "4  A3J3BRHTDRFJ2G  511189877       5  1397433600"
      ]
     },
     "execution_count": 55,
     "metadata": {},
     "output_type": "execute_result"
    }
   ],
   "source": [
    "# importing dataset\n",
    "\n",
    "column_names=['userid','productid','rating','timestamp']\n",
    "df=pd.read_csv('DATASETS/ratings_Electronics (1).csv',names=column_names)\n",
    "df.head()"
   ]
  },
  {
   "cell_type": "code",
   "execution_count": 56,
   "id": "8ca9d0c8",
   "metadata": {},
   "outputs": [],
   "source": [
    "df = df.drop('timestamp', axis=1) # dropping 'timestamp' as it is not required"
   ]
  },
  {
   "cell_type": "code",
   "execution_count": 57,
   "id": "d441e3a3",
   "metadata": {},
   "outputs": [],
   "source": [
    "df_copy=df.copy"
   ]
  },
  {
   "cell_type": "code",
   "execution_count": 58,
   "id": "db091884",
   "metadata": {},
   "outputs": [
    {
     "data": {
      "text/html": [
       "<div>\n",
       "<style scoped>\n",
       "    .dataframe tbody tr th:only-of-type {\n",
       "        vertical-align: middle;\n",
       "    }\n",
       "\n",
       "    .dataframe tbody tr th {\n",
       "        vertical-align: top;\n",
       "    }\n",
       "\n",
       "    .dataframe thead th {\n",
       "        text-align: right;\n",
       "    }\n",
       "</style>\n",
       "<table border=\"1\" class=\"dataframe\">\n",
       "  <thead>\n",
       "    <tr style=\"text-align: right;\">\n",
       "      <th></th>\n",
       "      <th>userid</th>\n",
       "      <th>productid</th>\n",
       "      <th>rating</th>\n",
       "    </tr>\n",
       "  </thead>\n",
       "  <tbody>\n",
       "    <tr>\n",
       "      <th>0</th>\n",
       "      <td>A2NWSAGRHCP8N5</td>\n",
       "      <td>321732944</td>\n",
       "      <td>5</td>\n",
       "    </tr>\n",
       "    <tr>\n",
       "      <th>1</th>\n",
       "      <td>A2WNBOD3WNDNKT</td>\n",
       "      <td>439886341</td>\n",
       "      <td>1</td>\n",
       "    </tr>\n",
       "    <tr>\n",
       "      <th>2</th>\n",
       "      <td>A1GI0U4ZRJA8WN</td>\n",
       "      <td>439886341</td>\n",
       "      <td>3</td>\n",
       "    </tr>\n",
       "    <tr>\n",
       "      <th>3</th>\n",
       "      <td>A1QGNMC6O1VW39</td>\n",
       "      <td>439886341</td>\n",
       "      <td>1</td>\n",
       "    </tr>\n",
       "    <tr>\n",
       "      <th>4</th>\n",
       "      <td>A3J3BRHTDRFJ2G</td>\n",
       "      <td>511189877</td>\n",
       "      <td>5</td>\n",
       "    </tr>\n",
       "  </tbody>\n",
       "</table>\n",
       "</div>"
      ],
      "text/plain": [
       "           userid  productid  rating\n",
       "0  A2NWSAGRHCP8N5  321732944       5\n",
       "1  A2WNBOD3WNDNKT  439886341       1\n",
       "2  A1GI0U4ZRJA8WN  439886341       3\n",
       "3  A1QGNMC6O1VW39  439886341       1\n",
       "4  A3J3BRHTDRFJ2G  511189877       5"
      ]
     },
     "execution_count": 58,
     "metadata": {},
     "output_type": "execute_result"
    }
   ],
   "source": [
    "df.head()"
   ]
  },
  {
   "cell_type": "code",
   "execution_count": 59,
   "id": "1abdc95f",
   "metadata": {},
   "outputs": [
    {
     "data": {
      "text/plain": [
       "(1033749, 3)"
      ]
     },
     "execution_count": 59,
     "metadata": {},
     "output_type": "execute_result"
    }
   ],
   "source": [
    "df.shape"
   ]
  },
  {
   "cell_type": "code",
   "execution_count": 60,
   "id": "18ccab0d",
   "metadata": {},
   "outputs": [
    {
     "name": "stdout",
     "output_type": "stream",
     "text": [
      "<class 'pandas.core.frame.DataFrame'>\n",
      "RangeIndex: 1033749 entries, 0 to 1033748\n",
      "Data columns (total 3 columns):\n",
      " #   Column     Non-Null Count    Dtype \n",
      "---  ------     --------------    ----- \n",
      " 0   userid     1033749 non-null  object\n",
      " 1   productid  1033749 non-null  object\n",
      " 2   rating     1033749 non-null  int64 \n",
      "dtypes: int64(1), object(2)\n",
      "memory usage: 23.7+ MB\n"
     ]
    }
   ],
   "source": [
    "df.info()"
   ]
  },
  {
   "cell_type": "code",
   "execution_count": 61,
   "id": "98ca69ae",
   "metadata": {},
   "outputs": [
    {
     "data": {
      "text/plain": [
       "userid       0\n",
       "productid    0\n",
       "rating       0\n",
       "dtype: int64"
      ]
     },
     "execution_count": 61,
     "metadata": {},
     "output_type": "execute_result"
    }
   ],
   "source": [
    "# finding missing values\n",
    "\n",
    "df.isnull().sum()"
   ]
  },
  {
   "cell_type": "code",
   "execution_count": 62,
   "id": "e19647f9",
   "metadata": {},
   "outputs": [
    {
     "data": {
      "text/plain": [
       "count    1.033749e+06\n",
       "mean     3.973821e+00\n",
       "std      1.399433e+00\n",
       "min      1.000000e+00\n",
       "25%      3.000000e+00\n",
       "50%      5.000000e+00\n",
       "75%      5.000000e+00\n",
       "max      5.000000e+00\n",
       "Name: rating, dtype: float64"
      ]
     },
     "execution_count": 62,
     "metadata": {},
     "output_type": "execute_result"
    }
   ],
   "source": [
    "df.rating.describe()"
   ]
  },
  {
   "cell_type": "code",
   "execution_count": 63,
   "id": "f0516880",
   "metadata": {},
   "outputs": [
    {
     "data": {
      "image/png": "[encoded data removed]",
      "text/plain": [
       "<Figure size 1200x600 with 1 Axes>"
      ]
     },
     "metadata": {},
     "output_type": "display_data"
    }
   ],
   "source": [
    "plt.figure(figsize = (12,6))\n",
    "df['rating'].value_counts(1).plot(kind='bar')\n",
    "plt.show()\n",
    "\n",
    "# the bar graph is presented to show the ratings"
   ]
  },
  {
   "cell_type": "code",
   "execution_count": 64,
   "id": "f42f9dd7",
   "metadata": {},
   "outputs": [
    {
     "name": "stdout",
     "output_type": "stream",
     "text": [
      "Number of unique USERS in Raw data =  775935\n",
      "Number of unique ITEMS in Raw data =  61285\n"
     ]
    }
   ],
   "source": [
    "# Number of unique userid and productid in the data\n",
    "\n",
    "print('Number of unique USERS in Raw data = ', df['userid'].nunique())\n",
    "print('Number of unique ITEMS in Raw data = ', df['productid'].nunique())"
   ]
  },
  {
   "cell_type": "code",
   "execution_count": 65,
   "id": "169cc555",
   "metadata": {},
   "outputs": [
    {
     "data": {
      "text/plain": [
       "userid\n",
       "A5JLAU2ARJ0BO     410\n",
       "A231WM2Z2JL0U3    249\n",
       "A25HBO5V8S8SEA    164\n",
       "A6FIAB28IS79      145\n",
       "AT6CZDCP4TRGA     127\n",
       "AKT8TGIT6VVZ5     122\n",
       "A11D1KHM7DVOQK    112\n",
       "A2B7BUH8834Y6M    103\n",
       "A3OXHLG6DIBRW8     94\n",
       "A203OCQQ12MAVT     89\n",
       "dtype: int64"
      ]
     },
     "execution_count": 65,
     "metadata": {},
     "output_type": "execute_result"
    }
   ],
   "source": [
    "# Top 10 users based on rating\n",
    "\n",
    "most_rated = df.groupby('userid').size().sort_values(ascending=False)[:10]\n",
    "most_rated"
   ]
  },
  {
   "cell_type": "code",
   "execution_count": 66,
   "id": "65758dfe",
   "metadata": {},
   "outputs": [],
   "source": [
    "counts = df['userid'].value_counts()\n",
    "df1 = df[df['userid'].isin(counts[counts>=10].index)]"
   ]
  },
  {
   "cell_type": "code",
   "execution_count": 67,
   "id": "26e259ff",
   "metadata": {},
   "outputs": [
    {
     "data": {
      "text/plain": [
       "(36956, 3)"
      ]
     },
     "execution_count": 67,
     "metadata": {},
     "output_type": "execute_result"
    }
   ],
   "source": [
    "df1.shape"
   ]
  },
  {
   "cell_type": "code",
   "execution_count": 68,
   "id": "a8af28a9",
   "metadata": {},
   "outputs": [
    {
     "name": "stdout",
     "output_type": "stream",
     "text": [
      "Number of unique USERS in final dataset =  2298\n"
     ]
    },
    {
     "data": {
      "text/plain": [
       "array(['AT09WGFUM934H', 'A17HMM1M7T9PJ1', 'A6J8D9V5S9MBE', ...,\n",
       "       'A1RCGK44YXNBBB', 'A3SXLK1MHY9P29', 'A1925WP0C8AGLB'], dtype=object)"
      ]
     },
     "execution_count": 68,
     "metadata": {},
     "output_type": "execute_result"
    }
   ],
   "source": [
    "print('Number of unique USERS in final dataset = ', df1['userid'].nunique())\n",
    "df1.userid.unique()"
   ]
  },
  {
   "cell_type": "code",
   "execution_count": 69,
   "id": "fb47fd83",
   "metadata": {},
   "outputs": [
    {
     "data": {
      "text/plain": [
       "15583"
      ]
     },
     "execution_count": 69,
     "metadata": {},
     "output_type": "execute_result"
    }
   ],
   "source": [
    "# number of unique productid\n",
    "\n",
    "df1.productid.nunique()"
   ]
  },
  {
   "cell_type": "code",
   "execution_count": 70,
   "id": "4d2b9c58",
   "metadata": {},
   "outputs": [
    {
     "name": "stdout",
     "output_type": "stream",
     "text": [
      "Found duplicates: 100\n",
      "Shape of final_ratings_matrix:  (2298, 15583)\n",
      "given_num_of_ratings =  36906\n",
      "possible_num_of_ratings =  35809734\n",
      "density: 0.10%\n"
     ]
    },
    {
     "data": {
      "text/html": [
       "<div>\n",
       "<style scoped>\n",
       "    .dataframe tbody tr th:only-of-type {\n",
       "        vertical-align: middle;\n",
       "    }\n",
       "\n",
       "    .dataframe tbody tr th {\n",
       "        vertical-align: top;\n",
       "    }\n",
       "\n",
       "    .dataframe thead th {\n",
       "        text-align: right;\n",
       "    }\n",
       "</style>\n",
       "<table border=\"1\" class=\"dataframe\">\n",
       "  <thead>\n",
       "    <tr style=\"text-align: right;\">\n",
       "      <th>productid</th>\n",
       "      <th>1400501466</th>\n",
       "      <th>1400501520</th>\n",
       "      <th>1400501776</th>\n",
       "      <th>1400532620</th>\n",
       "      <th>1400532655</th>\n",
       "      <th>140053271X</th>\n",
       "      <th>1400599997</th>\n",
       "      <th>1400698987</th>\n",
       "      <th>1400699169</th>\n",
       "      <th>1685560148</th>\n",
       "      <th>...</th>\n",
       "      <th>B000I62PEU</th>\n",
       "      <th>B000I62PHC</th>\n",
       "      <th>B000I62WVQ</th>\n",
       "      <th>B000I634WC</th>\n",
       "      <th>B000I647VO</th>\n",
       "      <th>B000I64NTA</th>\n",
       "      <th>B000I661J0</th>\n",
       "      <th>B000I66DQQ</th>\n",
       "      <th>B000I67SIS</th>\n",
       "      <th>B000I68BD4</th>\n",
       "    </tr>\n",
       "    <tr>\n",
       "      <th>userid</th>\n",
       "      <th></th>\n",
       "      <th></th>\n",
       "      <th></th>\n",
       "      <th></th>\n",
       "      <th></th>\n",
       "      <th></th>\n",
       "      <th></th>\n",
       "      <th></th>\n",
       "      <th></th>\n",
       "      <th></th>\n",
       "      <th></th>\n",
       "      <th></th>\n",
       "      <th></th>\n",
       "      <th></th>\n",
       "      <th></th>\n",
       "      <th></th>\n",
       "      <th></th>\n",
       "      <th></th>\n",
       "      <th></th>\n",
       "      <th></th>\n",
       "      <th></th>\n",
       "    </tr>\n",
       "  </thead>\n",
       "  <tbody>\n",
       "    <tr>\n",
       "      <th>A100UD67AHFODS</th>\n",
       "      <td>0.0</td>\n",
       "      <td>0.0</td>\n",
       "      <td>0.0</td>\n",
       "      <td>0.0</td>\n",
       "      <td>0.0</td>\n",
       "      <td>0.0</td>\n",
       "      <td>0.0</td>\n",
       "      <td>0.0</td>\n",
       "      <td>0.0</td>\n",
       "      <td>0.0</td>\n",
       "      <td>...</td>\n",
       "      <td>0.0</td>\n",
       "      <td>0.0</td>\n",
       "      <td>0.0</td>\n",
       "      <td>0.0</td>\n",
       "      <td>0.0</td>\n",
       "      <td>0.0</td>\n",
       "      <td>0.0</td>\n",
       "      <td>0.0</td>\n",
       "      <td>0.0</td>\n",
       "      <td>0.0</td>\n",
       "    </tr>\n",
       "    <tr>\n",
       "      <th>A100WO06OQR8BQ</th>\n",
       "      <td>0.0</td>\n",
       "      <td>0.0</td>\n",
       "      <td>0.0</td>\n",
       "      <td>0.0</td>\n",
       "      <td>0.0</td>\n",
       "      <td>0.0</td>\n",
       "      <td>0.0</td>\n",
       "      <td>0.0</td>\n",
       "      <td>0.0</td>\n",
       "      <td>0.0</td>\n",
       "      <td>...</td>\n",
       "      <td>0.0</td>\n",
       "      <td>0.0</td>\n",
       "      <td>0.0</td>\n",
       "      <td>0.0</td>\n",
       "      <td>0.0</td>\n",
       "      <td>0.0</td>\n",
       "      <td>0.0</td>\n",
       "      <td>0.0</td>\n",
       "      <td>0.0</td>\n",
       "      <td>0.0</td>\n",
       "    </tr>\n",
       "    <tr>\n",
       "      <th>A101OAAMZYWQ3U</th>\n",
       "      <td>0.0</td>\n",
       "      <td>0.0</td>\n",
       "      <td>0.0</td>\n",
       "      <td>0.0</td>\n",
       "      <td>0.0</td>\n",
       "      <td>0.0</td>\n",
       "      <td>0.0</td>\n",
       "      <td>0.0</td>\n",
       "      <td>0.0</td>\n",
       "      <td>0.0</td>\n",
       "      <td>...</td>\n",
       "      <td>0.0</td>\n",
       "      <td>0.0</td>\n",
       "      <td>0.0</td>\n",
       "      <td>0.0</td>\n",
       "      <td>0.0</td>\n",
       "      <td>0.0</td>\n",
       "      <td>0.0</td>\n",
       "      <td>0.0</td>\n",
       "      <td>0.0</td>\n",
       "      <td>0.0</td>\n",
       "    </tr>\n",
       "    <tr>\n",
       "      <th>A1053TBGTIEQ8V</th>\n",
       "      <td>0.0</td>\n",
       "      <td>0.0</td>\n",
       "      <td>0.0</td>\n",
       "      <td>0.0</td>\n",
       "      <td>0.0</td>\n",
       "      <td>0.0</td>\n",
       "      <td>0.0</td>\n",
       "      <td>0.0</td>\n",
       "      <td>0.0</td>\n",
       "      <td>0.0</td>\n",
       "      <td>...</td>\n",
       "      <td>0.0</td>\n",
       "      <td>0.0</td>\n",
       "      <td>0.0</td>\n",
       "      <td>0.0</td>\n",
       "      <td>0.0</td>\n",
       "      <td>0.0</td>\n",
       "      <td>0.0</td>\n",
       "      <td>0.0</td>\n",
       "      <td>0.0</td>\n",
       "      <td>0.0</td>\n",
       "    </tr>\n",
       "    <tr>\n",
       "      <th>A105TOJ6LTVMBG</th>\n",
       "      <td>0.0</td>\n",
       "      <td>0.0</td>\n",
       "      <td>0.0</td>\n",
       "      <td>0.0</td>\n",
       "      <td>0.0</td>\n",
       "      <td>0.0</td>\n",
       "      <td>0.0</td>\n",
       "      <td>0.0</td>\n",
       "      <td>0.0</td>\n",
       "      <td>0.0</td>\n",
       "      <td>...</td>\n",
       "      <td>0.0</td>\n",
       "      <td>0.0</td>\n",
       "      <td>0.0</td>\n",
       "      <td>0.0</td>\n",
       "      <td>0.0</td>\n",
       "      <td>0.0</td>\n",
       "      <td>0.0</td>\n",
       "      <td>0.0</td>\n",
       "      <td>0.0</td>\n",
       "      <td>0.0</td>\n",
       "    </tr>\n",
       "  </tbody>\n",
       "</table>\n",
       "<p>5 rows × 15583 columns</p>\n",
       "</div>"
      ],
      "text/plain": [
       "productid       1400501466  1400501520  1400501776  1400532620  1400532655  \\\n",
       "userid                                                                       \n",
       "A100UD67AHFODS         0.0         0.0         0.0         0.0         0.0   \n",
       "A100WO06OQR8BQ         0.0         0.0         0.0         0.0         0.0   \n",
       "A101OAAMZYWQ3U         0.0         0.0         0.0         0.0         0.0   \n",
       "A1053TBGTIEQ8V         0.0         0.0         0.0         0.0         0.0   \n",
       "A105TOJ6LTVMBG         0.0         0.0         0.0         0.0         0.0   \n",
       "\n",
       "productid       140053271X  1400599997  1400698987  1400699169  1685560148  \\\n",
       "userid                                                                       \n",
       "A100UD67AHFODS         0.0         0.0         0.0         0.0         0.0   \n",
       "A100WO06OQR8BQ         0.0         0.0         0.0         0.0         0.0   \n",
       "A101OAAMZYWQ3U         0.0         0.0         0.0         0.0         0.0   \n",
       "A1053TBGTIEQ8V         0.0         0.0         0.0         0.0         0.0   \n",
       "A105TOJ6LTVMBG         0.0         0.0         0.0         0.0         0.0   \n",
       "\n",
       "productid       ...  B000I62PEU  B000I62PHC  B000I62WVQ  B000I634WC  \\\n",
       "userid          ...                                                   \n",
       "A100UD67AHFODS  ...         0.0         0.0         0.0         0.0   \n",
       "A100WO06OQR8BQ  ...         0.0         0.0         0.0         0.0   \n",
       "A101OAAMZYWQ3U  ...         0.0         0.0         0.0         0.0   \n",
       "A1053TBGTIEQ8V  ...         0.0         0.0         0.0         0.0   \n",
       "A105TOJ6LTVMBG  ...         0.0         0.0         0.0         0.0   \n",
       "\n",
       "productid       B000I647VO  B000I64NTA  B000I661J0  B000I66DQQ  B000I67SIS  \\\n",
       "userid                                                                       \n",
       "A100UD67AHFODS         0.0         0.0         0.0         0.0         0.0   \n",
       "A100WO06OQR8BQ         0.0         0.0         0.0         0.0         0.0   \n",
       "A101OAAMZYWQ3U         0.0         0.0         0.0         0.0         0.0   \n",
       "A1053TBGTIEQ8V         0.0         0.0         0.0         0.0         0.0   \n",
       "A105TOJ6LTVMBG         0.0         0.0         0.0         0.0         0.0   \n",
       "\n",
       "productid       B000I68BD4  \n",
       "userid                      \n",
       "A100UD67AHFODS         0.0  \n",
       "A100WO06OQR8BQ         0.0  \n",
       "A101OAAMZYWQ3U         0.0  \n",
       "A1053TBGTIEQ8V         0.0  \n",
       "A105TOJ6LTVMBG         0.0  \n",
       "\n",
       "[5 rows x 15583 columns]"
      ]
     },
     "execution_count": 70,
     "metadata": {},
     "output_type": "execute_result"
    }
   ],
   "source": [
    "# First, checking for duplicates\n",
    "duplicates = df1[df1.duplicated(subset=['userid', 'productid'], keep=False)]\n",
    "if not duplicates.empty:\n",
    "    print(\"Found duplicates:\",len(duplicates))\n",
    "\n",
    "# If duplicates exist, aggregating by mean (or sum, or any other method)\n",
    "df1_aggregated = df1.groupby(['userid', 'productid']).agg({'rating': 'mean'}).reset_index()\n",
    "\n",
    "# Creating the pivot table with the aggregated data\n",
    "final_ratings_matrix = df1_aggregated.pivot(index='userid', columns='productid', values='rating').fillna(0)\n",
    "print('Shape of final_ratings_matrix: ', final_ratings_matrix.shape)\n",
    "\n",
    "\n",
    "# Finding the number of non-zero entries in the interaction matrix (pivot table)\n",
    "\n",
    "given_num_of_ratings = np.count_nonzero(final_ratings_matrix)\n",
    "print('given_num_of_ratings = ', given_num_of_ratings)\n",
    "\n",
    "\n",
    "# Finding the possible number of ratings as per the number of users and products\n",
    "\n",
    "possible_num_of_ratings = final_ratings_matrix.shape[0] * final_ratings_matrix.shape[1]\n",
    "print('possible_num_of_ratings = ', possible_num_of_ratings)\n",
    "\n",
    "\n",
    "# Density of ratings\n",
    "\n",
    "density = (given_num_of_ratings/possible_num_of_ratings) * 100\n",
    "print ('density: {:4.2f}%'.format(density))\n",
    "\n",
    "final_ratings_matrix.head()"
   ]
  },
  {
   "cell_type": "markdown",
   "id": "bc75310a",
   "metadata": {},
   "source": [
    "### Popularity (rank) Based Recommendation System"
   ]
  },
  {
   "cell_type": "code",
   "execution_count": 71,
   "id": "65a7451d",
   "metadata": {},
   "outputs": [
    {
     "name": "stderr",
     "output_type": "stream",
     "text": [
      "C:\\Users\\Valeska Dsouza\\AppData\\Local\\Temp\\ipykernel_6928\\998300425.py:2: FutureWarning: The default value of numeric_only in DataFrameGroupBy.mean is deprecated. In a future version, numeric_only will default to False. Either specify numeric_only or select only columns which should be valid for the function.\n",
      "  average_rating = df1.groupby('productid').mean()['rating']\n"
     ]
    },
    {
     "data": {
      "text/html": [
       "<div>\n",
       "<style scoped>\n",
       "    .dataframe tbody tr th:only-of-type {\n",
       "        vertical-align: middle;\n",
       "    }\n",
       "\n",
       "    .dataframe tbody tr th {\n",
       "        vertical-align: top;\n",
       "    }\n",
       "\n",
       "    .dataframe thead th {\n",
       "        text-align: right;\n",
       "    }\n",
       "</style>\n",
       "<table border=\"1\" class=\"dataframe\">\n",
       "  <thead>\n",
       "    <tr style=\"text-align: right;\">\n",
       "      <th></th>\n",
       "      <th>avg_rating</th>\n",
       "      <th>rating_count</th>\n",
       "    </tr>\n",
       "    <tr>\n",
       "      <th>productid</th>\n",
       "      <th></th>\n",
       "      <th></th>\n",
       "    </tr>\n",
       "  </thead>\n",
       "  <tbody>\n",
       "    <tr>\n",
       "      <th>B000CO90N2</th>\n",
       "      <td>5.0</td>\n",
       "      <td>1</td>\n",
       "    </tr>\n",
       "    <tr>\n",
       "      <th>B0000AKABI</th>\n",
       "      <td>5.0</td>\n",
       "      <td>2</td>\n",
       "    </tr>\n",
       "    <tr>\n",
       "      <th>B000A6QSLE</th>\n",
       "      <td>5.0</td>\n",
       "      <td>1</td>\n",
       "    </tr>\n",
       "    <tr>\n",
       "      <th>B0000ALKAN</th>\n",
       "      <td>5.0</td>\n",
       "      <td>2</td>\n",
       "    </tr>\n",
       "    <tr>\n",
       "      <th>B0000ALKAM</th>\n",
       "      <td>5.0</td>\n",
       "      <td>1</td>\n",
       "    </tr>\n",
       "  </tbody>\n",
       "</table>\n",
       "</div>"
      ],
      "text/plain": [
       "            avg_rating  rating_count\n",
       "productid                           \n",
       "B000CO90N2         5.0             1\n",
       "B0000AKABI         5.0             2\n",
       "B000A6QSLE         5.0             1\n",
       "B0000ALKAN         5.0             2\n",
       "B0000ALKAM         5.0             1"
      ]
     },
     "execution_count": 71,
     "metadata": {},
     "output_type": "execute_result"
    }
   ],
   "source": [
    "#Calculating the average rating for each product \n",
    "average_rating = df1.groupby('productid').mean()['rating']\n",
    "\n",
    "#Calculating the count of ratings for each product\n",
    "count_rating = df1.groupby('productid').count()['rating']\n",
    "\n",
    "#Creating a dataframe with calculated average and count of ratings\n",
    "final_rating = pd.DataFrame({'avg_rating':average_rating, 'rating_count':count_rating})\n",
    "\n",
    "#Sorting the dataframe by average of ratings\n",
    "final_rating = final_rating.sort_values(by='avg_rating',ascending=False)\n",
    "\n",
    "final_rating.head()"
   ]
  },
  {
   "cell_type": "code",
   "execution_count": 72,
   "id": "d61edcbe",
   "metadata": {},
   "outputs": [],
   "source": [
    "# defining a function to get the top n products based on highest average rating and minimum interactions\n",
    "def top_n_products(final_rating, n, min_interaction):\n",
    "    \n",
    "    # Finding products with minimum number of interactions\n",
    "    recommendations = final_rating[final_rating['rating_count']>min_interaction]\n",
    "    \n",
    "    # Sorting values with respect to average rating \n",
    "    recommendations = recommendations.sort_values('avg_rating',ascending=False)\n",
    "    \n",
    "    return recommendations.index[:n]"
   ]
  },
  {
   "cell_type": "code",
   "execution_count": 73,
   "id": "26babf9d",
   "metadata": {},
   "outputs": [
    {
     "data": {
      "text/plain": [
       "['B0000BZL1P', 'B00017LSPI', 'B000AZ57M6', 'B00005LEN4', 'B00009XVCZ']"
      ]
     },
     "execution_count": 73,
     "metadata": {},
     "output_type": "execute_result"
    }
   ],
   "source": [
    "# Recommending top 5 products with 50 minimum interactions based on popularity\n",
    "\n",
    "list(top_n_products(final_rating, 5, 50))"
   ]
  },
  {
   "cell_type": "code",
   "execution_count": 74,
   "id": "cd2ac903",
   "metadata": {},
   "outputs": [
    {
     "data": {
      "text/plain": [
       "['B0002L5R78', 'B00007E7JU', 'B00004ZCJE', 'B00007KDVI']"
      ]
     },
     "execution_count": 74,
     "metadata": {},
     "output_type": "execute_result"
    }
   ],
   "source": [
    "# top 5 products with minimum 80 interactions based on popularity\n",
    "\n",
    "list(top_n_products(final_rating,5,80))"
   ]
  },
  {
   "cell_type": "markdown",
   "id": "f748fb87",
   "metadata": {},
   "source": [
    "### Collaborative Recommendation System\n",
    "#### User based collaborative filtering"
   ]
  },
  {
   "cell_type": "code",
   "execution_count": 75,
   "id": "df75eaa6",
   "metadata": {},
   "outputs": [
    {
     "data": {
      "text/html": [
       "<div>\n",
       "<style scoped>\n",
       "    .dataframe tbody tr th:only-of-type {\n",
       "        vertical-align: middle;\n",
       "    }\n",
       "\n",
       "    .dataframe tbody tr th {\n",
       "        vertical-align: top;\n",
       "    }\n",
       "\n",
       "    .dataframe thead th {\n",
       "        text-align: right;\n",
       "    }\n",
       "</style>\n",
       "<table border=\"1\" class=\"dataframe\">\n",
       "  <thead>\n",
       "    <tr style=\"text-align: right;\">\n",
       "      <th>productid</th>\n",
       "      <th>1400501466</th>\n",
       "      <th>1400501520</th>\n",
       "      <th>1400501776</th>\n",
       "      <th>1400532620</th>\n",
       "      <th>1400532655</th>\n",
       "      <th>140053271X</th>\n",
       "      <th>1400599997</th>\n",
       "      <th>1400698987</th>\n",
       "      <th>1400699169</th>\n",
       "      <th>1685560148</th>\n",
       "      <th>...</th>\n",
       "      <th>B000I62PEU</th>\n",
       "      <th>B000I62PHC</th>\n",
       "      <th>B000I62WVQ</th>\n",
       "      <th>B000I634WC</th>\n",
       "      <th>B000I647VO</th>\n",
       "      <th>B000I64NTA</th>\n",
       "      <th>B000I661J0</th>\n",
       "      <th>B000I66DQQ</th>\n",
       "      <th>B000I67SIS</th>\n",
       "      <th>B000I68BD4</th>\n",
       "    </tr>\n",
       "    <tr>\n",
       "      <th>userid</th>\n",
       "      <th></th>\n",
       "      <th></th>\n",
       "      <th></th>\n",
       "      <th></th>\n",
       "      <th></th>\n",
       "      <th></th>\n",
       "      <th></th>\n",
       "      <th></th>\n",
       "      <th></th>\n",
       "      <th></th>\n",
       "      <th></th>\n",
       "      <th></th>\n",
       "      <th></th>\n",
       "      <th></th>\n",
       "      <th></th>\n",
       "      <th></th>\n",
       "      <th></th>\n",
       "      <th></th>\n",
       "      <th></th>\n",
       "      <th></th>\n",
       "      <th></th>\n",
       "    </tr>\n",
       "  </thead>\n",
       "  <tbody>\n",
       "    <tr>\n",
       "      <th>A100UD67AHFODS</th>\n",
       "      <td>0.0</td>\n",
       "      <td>0.0</td>\n",
       "      <td>0.0</td>\n",
       "      <td>0.0</td>\n",
       "      <td>0.0</td>\n",
       "      <td>0.0</td>\n",
       "      <td>0.0</td>\n",
       "      <td>0.0</td>\n",
       "      <td>0.0</td>\n",
       "      <td>0.0</td>\n",
       "      <td>...</td>\n",
       "      <td>0.0</td>\n",
       "      <td>0.0</td>\n",
       "      <td>0.0</td>\n",
       "      <td>0.0</td>\n",
       "      <td>0.0</td>\n",
       "      <td>0.0</td>\n",
       "      <td>0.0</td>\n",
       "      <td>0.0</td>\n",
       "      <td>0.0</td>\n",
       "      <td>0.0</td>\n",
       "    </tr>\n",
       "    <tr>\n",
       "      <th>A100WO06OQR8BQ</th>\n",
       "      <td>0.0</td>\n",
       "      <td>0.0</td>\n",
       "      <td>0.0</td>\n",
       "      <td>0.0</td>\n",
       "      <td>0.0</td>\n",
       "      <td>0.0</td>\n",
       "      <td>0.0</td>\n",
       "      <td>0.0</td>\n",
       "      <td>0.0</td>\n",
       "      <td>0.0</td>\n",
       "      <td>...</td>\n",
       "      <td>0.0</td>\n",
       "      <td>0.0</td>\n",
       "      <td>0.0</td>\n",
       "      <td>0.0</td>\n",
       "      <td>0.0</td>\n",
       "      <td>0.0</td>\n",
       "      <td>0.0</td>\n",
       "      <td>0.0</td>\n",
       "      <td>0.0</td>\n",
       "      <td>0.0</td>\n",
       "    </tr>\n",
       "    <tr>\n",
       "      <th>A101OAAMZYWQ3U</th>\n",
       "      <td>0.0</td>\n",
       "      <td>0.0</td>\n",
       "      <td>0.0</td>\n",
       "      <td>0.0</td>\n",
       "      <td>0.0</td>\n",
       "      <td>0.0</td>\n",
       "      <td>0.0</td>\n",
       "      <td>0.0</td>\n",
       "      <td>0.0</td>\n",
       "      <td>0.0</td>\n",
       "      <td>...</td>\n",
       "      <td>0.0</td>\n",
       "      <td>0.0</td>\n",
       "      <td>0.0</td>\n",
       "      <td>0.0</td>\n",
       "      <td>0.0</td>\n",
       "      <td>0.0</td>\n",
       "      <td>0.0</td>\n",
       "      <td>0.0</td>\n",
       "      <td>0.0</td>\n",
       "      <td>0.0</td>\n",
       "    </tr>\n",
       "    <tr>\n",
       "      <th>A1053TBGTIEQ8V</th>\n",
       "      <td>0.0</td>\n",
       "      <td>0.0</td>\n",
       "      <td>0.0</td>\n",
       "      <td>0.0</td>\n",
       "      <td>0.0</td>\n",
       "      <td>0.0</td>\n",
       "      <td>0.0</td>\n",
       "      <td>0.0</td>\n",
       "      <td>0.0</td>\n",
       "      <td>0.0</td>\n",
       "      <td>...</td>\n",
       "      <td>0.0</td>\n",
       "      <td>0.0</td>\n",
       "      <td>0.0</td>\n",
       "      <td>0.0</td>\n",
       "      <td>0.0</td>\n",
       "      <td>0.0</td>\n",
       "      <td>0.0</td>\n",
       "      <td>0.0</td>\n",
       "      <td>0.0</td>\n",
       "      <td>0.0</td>\n",
       "    </tr>\n",
       "    <tr>\n",
       "      <th>A105TOJ6LTVMBG</th>\n",
       "      <td>0.0</td>\n",
       "      <td>0.0</td>\n",
       "      <td>0.0</td>\n",
       "      <td>0.0</td>\n",
       "      <td>0.0</td>\n",
       "      <td>0.0</td>\n",
       "      <td>0.0</td>\n",
       "      <td>0.0</td>\n",
       "      <td>0.0</td>\n",
       "      <td>0.0</td>\n",
       "      <td>...</td>\n",
       "      <td>0.0</td>\n",
       "      <td>0.0</td>\n",
       "      <td>0.0</td>\n",
       "      <td>0.0</td>\n",
       "      <td>0.0</td>\n",
       "      <td>0.0</td>\n",
       "      <td>0.0</td>\n",
       "      <td>0.0</td>\n",
       "      <td>0.0</td>\n",
       "      <td>0.0</td>\n",
       "    </tr>\n",
       "  </tbody>\n",
       "</table>\n",
       "<p>5 rows × 15583 columns</p>\n",
       "</div>"
      ],
      "text/plain": [
       "productid       1400501466  1400501520  1400501776  1400532620  1400532655  \\\n",
       "userid                                                                       \n",
       "A100UD67AHFODS         0.0         0.0         0.0         0.0         0.0   \n",
       "A100WO06OQR8BQ         0.0         0.0         0.0         0.0         0.0   \n",
       "A101OAAMZYWQ3U         0.0         0.0         0.0         0.0         0.0   \n",
       "A1053TBGTIEQ8V         0.0         0.0         0.0         0.0         0.0   \n",
       "A105TOJ6LTVMBG         0.0         0.0         0.0         0.0         0.0   \n",
       "\n",
       "productid       140053271X  1400599997  1400698987  1400699169  1685560148  \\\n",
       "userid                                                                       \n",
       "A100UD67AHFODS         0.0         0.0         0.0         0.0         0.0   \n",
       "A100WO06OQR8BQ         0.0         0.0         0.0         0.0         0.0   \n",
       "A101OAAMZYWQ3U         0.0         0.0         0.0         0.0         0.0   \n",
       "A1053TBGTIEQ8V         0.0         0.0         0.0         0.0         0.0   \n",
       "A105TOJ6LTVMBG         0.0         0.0         0.0         0.0         0.0   \n",
       "\n",
       "productid       ...  B000I62PEU  B000I62PHC  B000I62WVQ  B000I634WC  \\\n",
       "userid          ...                                                   \n",
       "A100UD67AHFODS  ...         0.0         0.0         0.0         0.0   \n",
       "A100WO06OQR8BQ  ...         0.0         0.0         0.0         0.0   \n",
       "A101OAAMZYWQ3U  ...         0.0         0.0         0.0         0.0   \n",
       "A1053TBGTIEQ8V  ...         0.0         0.0         0.0         0.0   \n",
       "A105TOJ6LTVMBG  ...         0.0         0.0         0.0         0.0   \n",
       "\n",
       "productid       B000I647VO  B000I64NTA  B000I661J0  B000I66DQQ  B000I67SIS  \\\n",
       "userid                                                                       \n",
       "A100UD67AHFODS         0.0         0.0         0.0         0.0         0.0   \n",
       "A100WO06OQR8BQ         0.0         0.0         0.0         0.0         0.0   \n",
       "A101OAAMZYWQ3U         0.0         0.0         0.0         0.0         0.0   \n",
       "A1053TBGTIEQ8V         0.0         0.0         0.0         0.0         0.0   \n",
       "A105TOJ6LTVMBG         0.0         0.0         0.0         0.0         0.0   \n",
       "\n",
       "productid       B000I68BD4  \n",
       "userid                      \n",
       "A100UD67AHFODS         0.0  \n",
       "A100WO06OQR8BQ         0.0  \n",
       "A101OAAMZYWQ3U         0.0  \n",
       "A1053TBGTIEQ8V         0.0  \n",
       "A105TOJ6LTVMBG         0.0  \n",
       "\n",
       "[5 rows x 15583 columns]"
      ]
     },
     "execution_count": 75,
     "metadata": {},
     "output_type": "execute_result"
    }
   ],
   "source": [
    "final_ratings_matrix.head()"
   ]
  },
  {
   "cell_type": "code",
   "execution_count": 76,
   "id": "7aa4b5d5",
   "metadata": {},
   "outputs": [
    {
     "data": {
      "text/html": [
       "<div>\n",
       "<style scoped>\n",
       "    .dataframe tbody tr th:only-of-type {\n",
       "        vertical-align: middle;\n",
       "    }\n",
       "\n",
       "    .dataframe tbody tr th {\n",
       "        vertical-align: top;\n",
       "    }\n",
       "\n",
       "    .dataframe thead th {\n",
       "        text-align: right;\n",
       "    }\n",
       "</style>\n",
       "<table border=\"1\" class=\"dataframe\">\n",
       "  <thead>\n",
       "    <tr style=\"text-align: right;\">\n",
       "      <th>productid</th>\n",
       "      <th>1400501466</th>\n",
       "      <th>1400501520</th>\n",
       "      <th>1400501776</th>\n",
       "      <th>1400532620</th>\n",
       "      <th>1400532655</th>\n",
       "      <th>140053271X</th>\n",
       "      <th>1400599997</th>\n",
       "      <th>1400698987</th>\n",
       "      <th>1400699169</th>\n",
       "      <th>1685560148</th>\n",
       "      <th>...</th>\n",
       "      <th>B000I62PEU</th>\n",
       "      <th>B000I62PHC</th>\n",
       "      <th>B000I62WVQ</th>\n",
       "      <th>B000I634WC</th>\n",
       "      <th>B000I647VO</th>\n",
       "      <th>B000I64NTA</th>\n",
       "      <th>B000I661J0</th>\n",
       "      <th>B000I66DQQ</th>\n",
       "      <th>B000I67SIS</th>\n",
       "      <th>B000I68BD4</th>\n",
       "    </tr>\n",
       "    <tr>\n",
       "      <th>user_index</th>\n",
       "      <th></th>\n",
       "      <th></th>\n",
       "      <th></th>\n",
       "      <th></th>\n",
       "      <th></th>\n",
       "      <th></th>\n",
       "      <th></th>\n",
       "      <th></th>\n",
       "      <th></th>\n",
       "      <th></th>\n",
       "      <th></th>\n",
       "      <th></th>\n",
       "      <th></th>\n",
       "      <th></th>\n",
       "      <th></th>\n",
       "      <th></th>\n",
       "      <th></th>\n",
       "      <th></th>\n",
       "      <th></th>\n",
       "      <th></th>\n",
       "      <th></th>\n",
       "    </tr>\n",
       "  </thead>\n",
       "  <tbody>\n",
       "    <tr>\n",
       "      <th>0</th>\n",
       "      <td>0.0</td>\n",
       "      <td>0.0</td>\n",
       "      <td>0.0</td>\n",
       "      <td>0.0</td>\n",
       "      <td>0.0</td>\n",
       "      <td>0.0</td>\n",
       "      <td>0.0</td>\n",
       "      <td>0.0</td>\n",
       "      <td>0.0</td>\n",
       "      <td>0.0</td>\n",
       "      <td>...</td>\n",
       "      <td>0.0</td>\n",
       "      <td>0.0</td>\n",
       "      <td>0.0</td>\n",
       "      <td>0.0</td>\n",
       "      <td>0.0</td>\n",
       "      <td>0.0</td>\n",
       "      <td>0.0</td>\n",
       "      <td>0.0</td>\n",
       "      <td>0.0</td>\n",
       "      <td>0.0</td>\n",
       "    </tr>\n",
       "    <tr>\n",
       "      <th>1</th>\n",
       "      <td>0.0</td>\n",
       "      <td>0.0</td>\n",
       "      <td>0.0</td>\n",
       "      <td>0.0</td>\n",
       "      <td>0.0</td>\n",
       "      <td>0.0</td>\n",
       "      <td>0.0</td>\n",
       "      <td>0.0</td>\n",
       "      <td>0.0</td>\n",
       "      <td>0.0</td>\n",
       "      <td>...</td>\n",
       "      <td>0.0</td>\n",
       "      <td>0.0</td>\n",
       "      <td>0.0</td>\n",
       "      <td>0.0</td>\n",
       "      <td>0.0</td>\n",
       "      <td>0.0</td>\n",
       "      <td>0.0</td>\n",
       "      <td>0.0</td>\n",
       "      <td>0.0</td>\n",
       "      <td>0.0</td>\n",
       "    </tr>\n",
       "    <tr>\n",
       "      <th>2</th>\n",
       "      <td>0.0</td>\n",
       "      <td>0.0</td>\n",
       "      <td>0.0</td>\n",
       "      <td>0.0</td>\n",
       "      <td>0.0</td>\n",
       "      <td>0.0</td>\n",
       "      <td>0.0</td>\n",
       "      <td>0.0</td>\n",
       "      <td>0.0</td>\n",
       "      <td>0.0</td>\n",
       "      <td>...</td>\n",
       "      <td>0.0</td>\n",
       "      <td>0.0</td>\n",
       "      <td>0.0</td>\n",
       "      <td>0.0</td>\n",
       "      <td>0.0</td>\n",
       "      <td>0.0</td>\n",
       "      <td>0.0</td>\n",
       "      <td>0.0</td>\n",
       "      <td>0.0</td>\n",
       "      <td>0.0</td>\n",
       "    </tr>\n",
       "    <tr>\n",
       "      <th>3</th>\n",
       "      <td>0.0</td>\n",
       "      <td>0.0</td>\n",
       "      <td>0.0</td>\n",
       "      <td>0.0</td>\n",
       "      <td>0.0</td>\n",
       "      <td>0.0</td>\n",
       "      <td>0.0</td>\n",
       "      <td>0.0</td>\n",
       "      <td>0.0</td>\n",
       "      <td>0.0</td>\n",
       "      <td>...</td>\n",
       "      <td>0.0</td>\n",
       "      <td>0.0</td>\n",
       "      <td>0.0</td>\n",
       "      <td>0.0</td>\n",
       "      <td>0.0</td>\n",
       "      <td>0.0</td>\n",
       "      <td>0.0</td>\n",
       "      <td>0.0</td>\n",
       "      <td>0.0</td>\n",
       "      <td>0.0</td>\n",
       "    </tr>\n",
       "    <tr>\n",
       "      <th>4</th>\n",
       "      <td>0.0</td>\n",
       "      <td>0.0</td>\n",
       "      <td>0.0</td>\n",
       "      <td>0.0</td>\n",
       "      <td>0.0</td>\n",
       "      <td>0.0</td>\n",
       "      <td>0.0</td>\n",
       "      <td>0.0</td>\n",
       "      <td>0.0</td>\n",
       "      <td>0.0</td>\n",
       "      <td>...</td>\n",
       "      <td>0.0</td>\n",
       "      <td>0.0</td>\n",
       "      <td>0.0</td>\n",
       "      <td>0.0</td>\n",
       "      <td>0.0</td>\n",
       "      <td>0.0</td>\n",
       "      <td>0.0</td>\n",
       "      <td>0.0</td>\n",
       "      <td>0.0</td>\n",
       "      <td>0.0</td>\n",
       "    </tr>\n",
       "  </tbody>\n",
       "</table>\n",
       "<p>5 rows × 15583 columns</p>\n",
       "</div>"
      ],
      "text/plain": [
       "productid   1400501466  1400501520  1400501776  1400532620  1400532655  \\\n",
       "user_index                                                               \n",
       "0                  0.0         0.0         0.0         0.0         0.0   \n",
       "1                  0.0         0.0         0.0         0.0         0.0   \n",
       "2                  0.0         0.0         0.0         0.0         0.0   \n",
       "3                  0.0         0.0         0.0         0.0         0.0   \n",
       "4                  0.0         0.0         0.0         0.0         0.0   \n",
       "\n",
       "productid   140053271X  1400599997  1400698987  1400699169  1685560148  ...  \\\n",
       "user_index                                                              ...   \n",
       "0                  0.0         0.0         0.0         0.0         0.0  ...   \n",
       "1                  0.0         0.0         0.0         0.0         0.0  ...   \n",
       "2                  0.0         0.0         0.0         0.0         0.0  ...   \n",
       "3                  0.0         0.0         0.0         0.0         0.0  ...   \n",
       "4                  0.0         0.0         0.0         0.0         0.0  ...   \n",
       "\n",
       "productid   B000I62PEU  B000I62PHC  B000I62WVQ  B000I634WC  B000I647VO  \\\n",
       "user_index                                                               \n",
       "0                  0.0         0.0         0.0         0.0         0.0   \n",
       "1                  0.0         0.0         0.0         0.0         0.0   \n",
       "2                  0.0         0.0         0.0         0.0         0.0   \n",
       "3                  0.0         0.0         0.0         0.0         0.0   \n",
       "4                  0.0         0.0         0.0         0.0         0.0   \n",
       "\n",
       "productid   B000I64NTA  B000I661J0  B000I66DQQ  B000I67SIS  B000I68BD4  \n",
       "user_index                                                              \n",
       "0                  0.0         0.0         0.0         0.0         0.0  \n",
       "1                  0.0         0.0         0.0         0.0         0.0  \n",
       "2                  0.0         0.0         0.0         0.0         0.0  \n",
       "3                  0.0         0.0         0.0         0.0         0.0  \n",
       "4                  0.0         0.0         0.0         0.0         0.0  \n",
       "\n",
       "[5 rows x 15583 columns]"
      ]
     },
     "execution_count": 76,
     "metadata": {},
     "output_type": "execute_result"
    }
   ],
   "source": [
    "final_ratings_matrix['user_index'] = np.arange(0, final_ratings_matrix.shape[0])\n",
    "final_ratings_matrix.set_index(['user_index'], inplace=True)\n",
    "\n",
    "# Actual ratings given by users\n",
    "\n",
    "final_ratings_matrix.head()"
   ]
  },
  {
   "cell_type": "code",
   "execution_count": 77,
   "id": "f10f2e6d",
   "metadata": {},
   "outputs": [],
   "source": [
    "# defining a function to find similar users and their similarity scores\n",
    "\n",
    "def similar_users(user_index, interactions_matrix):\n",
    "    similarity = []\n",
    "    for user in range(0, interactions_matrix.shape[0]):\n",
    "        \n",
    "        # finding cosine similarity between the userid and each user\n",
    "        simscore = cosine_similarity([interactions_matrix.loc[user_index]], [interactions_matrix.loc[user]])\n",
    "        \n",
    "        # Appending the user and the corresponding similarity score with userid as a tuple\n",
    "        similarity.append((user,simscore))\n",
    "        \n",
    "    similarity.sort(key=lambda x: x[1], reverse=True)\n",
    "    most_similar_users = [tup[0] for tup in similarity] \n",
    "    similarity_score = [tup[1] for tup in similarity]\n",
    "   \n",
    "    # Removing the original user and its similarity score and keeping only other similar users \n",
    "    most_similar_users.remove(user_index)\n",
    "    similarity_score.remove(similarity_score[0])\n",
    "       \n",
    "    return most_similar_users, similarity_score\n",
    "     "
   ]
  },
  {
   "cell_type": "code",
   "execution_count": 78,
   "id": "a089e9d2",
   "metadata": {},
   "outputs": [
    {
     "data": {
      "text/plain": [
       "[1053, 666, 1039, 1403, 221, 1089, 1520, 732, 1941, 1537]"
      ]
     },
     "execution_count": 78,
     "metadata": {},
     "output_type": "execute_result"
    }
   ],
   "source": [
    "# finding top 10 similar users to the user index 6 and their similarity score\n",
    "\n",
    "similar = similar_users(6,final_ratings_matrix)[0][0:10]\n",
    "similar"
   ]
  },
  {
   "cell_type": "code",
   "execution_count": 79,
   "id": "ce47e9f7",
   "metadata": {},
   "outputs": [
    {
     "data": {
      "text/plain": [
       "[array([[0.10638448]]),\n",
       " array([[0.10341267]]),\n",
       " array([[0.09496715]]),\n",
       " array([[0.08717843]]),\n",
       " array([[0.07957836]]),\n",
       " array([[0.07836091]]),\n",
       " array([[0.07718937]]),\n",
       " array([[0.07449836]]),\n",
       " array([[0.07449836]]),\n",
       " array([[0.06538777]])]"
      ]
     },
     "execution_count": 79,
     "metadata": {},
     "output_type": "execute_result"
    }
   ],
   "source": [
    "similar_users(6,final_ratings_matrix)[1][0:10]\n",
    "# displayed below is the similarity score"
   ]
  },
  {
   "cell_type": "code",
   "execution_count": 80,
   "id": "e1800145",
   "metadata": {},
   "outputs": [
    {
     "data": {
      "text/plain": [
       "[277, 1490, 95, 1441, 880, 1060, 1482, 1923, 940, 900, 1027, 33]"
      ]
     },
     "execution_count": 80,
     "metadata": {},
     "output_type": "execute_result"
    }
   ],
   "source": [
    "# finding top 12 similar users to the user index 1682 and their similarity score\n",
    "\n",
    "similar = similar_users(1682,final_ratings_matrix)[0][0:12]\n",
    "similar"
   ]
  },
  {
   "cell_type": "code",
   "execution_count": 81,
   "id": "db711354",
   "metadata": {},
   "outputs": [
    {
     "data": {
      "text/plain": [
       "[array([[0.13796582]]),\n",
       " array([[0.12731882]]),\n",
       " array([[0.11814687]]),\n",
       " array([[0.10873741]]),\n",
       " array([[0.10825453]]),\n",
       " array([[0.10717276]]),\n",
       " array([[0.1070627]]),\n",
       " array([[0.10626579]]),\n",
       " array([[0.10451883]]),\n",
       " array([[0.10312704]]),\n",
       " array([[0.10231819]]),\n",
       " array([[0.10205277]])]"
      ]
     },
     "execution_count": 81,
     "metadata": {},
     "output_type": "execute_result"
    }
   ],
   "source": [
    "similar_users(1682,final_ratings_matrix)[1][0:12]\n",
    "\n",
    "# displayed below is the similarity score"
   ]
  },
  {
   "cell_type": "markdown",
   "id": "85f1115e",
   "metadata": {},
   "source": [
    "### Function to recommend products"
   ]
  },
  {
   "cell_type": "code",
   "execution_count": 82,
   "id": "80a5195f",
   "metadata": {},
   "outputs": [],
   "source": [
    "# defining the recommendations function to get recommendations by using the similar users' preferences\n",
    "def recommendations(user_index, num_of_products, interactions_matrix):\n",
    "    \n",
    "    #Saving similar users using the function similar_users defined above\n",
    "    most_similar_users = similar_users(user_index, interactions_matrix)[0]\n",
    "    \n",
    "    #Finding product IDs with which the user_id has interacted\n",
    "    prod_ids = set(list(interactions_matrix.columns[np.where(interactions_matrix.loc[user_index] > 0)]))\n",
    "    recommendations = []\n",
    "    \n",
    "    observed_interactions=prod_ids.copy()\n",
    "    for similar_user in most_similar_users:\n",
    "        if len(recommendations)<num_of_products:\n",
    "            \n",
    "            #Finding 'n' products which have been rated by similar users but not by the user_id\n",
    "            similar_user_prod_ids = set(list(interactions_matrix.columns[np.where(interactions_matrix.loc[similar_user] > 0)]))\n",
    "            recommendations.extend(list(similar_user_prod_ids.difference(observed_interactions)))\n",
    "            observed_interactions = observed_interactions.union(similar_user_prod_ids)\n",
    "        else:\n",
    "            break\n",
    "    \n",
    "    return recommendations[:num_of_products]"
   ]
  },
  {
   "cell_type": "code",
   "execution_count": 85,
   "id": "37fc437e",
   "metadata": {},
   "outputs": [
    {
     "data": {
      "text/plain": [
       "['B00005LENO', 'B000E1FYQA', 'B0009PCX7O', 'B00067TTY0', 'B00007EDYY']"
      ]
     },
     "execution_count": 85,
     "metadata": {},
     "output_type": "execute_result"
    }
   ],
   "source": [
    "# Recommending 5 products to user index 245 based on similarity based collaborative filtering\n",
    "\n",
    "recommendations(245,5,final_ratings_matrix)"
   ]
  },
  {
   "cell_type": "code",
   "execution_count": 86,
   "id": "f1dbbebe",
   "metadata": {},
   "outputs": [
    {
     "data": {
      "text/plain": [
       "['B000E1FYQA',\n",
       " 'B000ASBKJ2',\n",
       " 'B000C7IKVM',\n",
       " 'B0009PXEEU',\n",
       " 'B0002L596M',\n",
       " 'B000204SWE',\n",
       " 'B000EIEEYG',\n",
       " 'B0009WX4KM',\n",
       " 'B0002HS1A2',\n",
       " 'B000FEJNLI']"
      ]
     },
     "execution_count": 86,
     "metadata": {},
     "output_type": "execute_result"
    }
   ],
   "source": [
    "# Recommending 10 products to user index 1346 based on similarity based collaborative filtering\n",
    "\n",
    "recommendations(1346,10,final_ratings_matrix)"
   ]
  },
  {
   "cell_type": "markdown",
   "id": "1fb1b6e6",
   "metadata": {},
   "source": [
    "#### Model based Collaborative Filtering: Singular Value Decomposition (SVD)\n",
    "\n",
    "#### CSR Matrix"
   ]
  },
  {
   "cell_type": "code",
   "execution_count": 87,
   "id": "c97ffe8b",
   "metadata": {},
   "outputs": [],
   "source": [
    "from scipy.sparse import csr_matrix\n",
    "final_ratings_sparse = csr_matrix(final_ratings_matrix.values)"
   ]
  },
  {
   "cell_type": "markdown",
   "id": "ad8aaadc",
   "metadata": {},
   "source": [
    "#### SVD"
   ]
  },
  {
   "cell_type": "code",
   "execution_count": 88,
   "id": "b7be6c66",
   "metadata": {},
   "outputs": [],
   "source": [
    "U, s, Vt = svds(final_ratings_sparse, k = 50) # k is the number of latent features\n",
    "\n",
    "# Constructing diagonal array in SVD\n",
    "sigma = np.diag(s)"
   ]
  },
  {
   "cell_type": "code",
   "execution_count": 89,
   "id": "385e89c5",
   "metadata": {},
   "outputs": [
    {
     "data": {
      "text/plain": [
       "(2298, 50)"
      ]
     },
     "execution_count": 89,
     "metadata": {},
     "output_type": "execute_result"
    }
   ],
   "source": [
    "U.shape"
   ]
  },
  {
   "cell_type": "code",
   "execution_count": 90,
   "id": "07492899",
   "metadata": {},
   "outputs": [
    {
     "data": {
      "text/plain": [
       "(50, 50)"
      ]
     },
     "execution_count": 90,
     "metadata": {},
     "output_type": "execute_result"
    }
   ],
   "source": [
    "sigma.shape"
   ]
  },
  {
   "cell_type": "code",
   "execution_count": 91,
   "id": "2c7bfa6a",
   "metadata": {},
   "outputs": [
    {
     "data": {
      "text/plain": [
       "(50, 15583)"
      ]
     },
     "execution_count": 91,
     "metadata": {},
     "output_type": "execute_result"
    }
   ],
   "source": [
    "Vt.shape"
   ]
  },
  {
   "cell_type": "code",
   "execution_count": 103,
   "id": "bbbb9ecf",
   "metadata": {},
   "outputs": [],
   "source": [
    "# Predicting ratings\n",
    "\n",
    "all_user_predicted_ratings = np.dot(np.dot(U, sigma), Vt) \n",
    "\n",
    "preds_df = pd.DataFrame(abs(all_user_predicted_ratings), columns = final_ratings_matrix.columns)\n",
    "preds_df.head()\n",
    "preds_matrix = csr_matrix(preds_df.values)"
   ]
  },
  {
   "cell_type": "code",
   "execution_count": 102,
   "id": "78d3a71a",
   "metadata": {},
   "outputs": [],
   "source": [
    "# Function to recommend products\n",
    "\n",
    "def recommend_items(user_index, interactions_matrix, preds_matrix, num_recommendations):\n",
    "    \n",
    "    # Getting the user's ratings from the actual and predicted interaction matrices\n",
    "    user_ratings = interactions_matrix[user_index,:].toarray().reshape(-1)\n",
    "    user_predictions = preds_matrix[user_index,:].toarray().reshape(-1)\n",
    "\n",
    "    #Creating a dataframe with actual and predicted ratings columns\n",
    "    temp = pd.DataFrame({'user_ratings': user_ratings, 'user_predictions': user_predictions})\n",
    "    temp['Recommended Products'] = np.arange(len(user_ratings))\n",
    "    temp = temp.set_index('Recommended Products')\n",
    "    \n",
    "    #Filtering the dataframe where actual ratings are 0 which implies that the user has not interacted with that product\n",
    "    temp = temp.loc[temp.user_ratings == 0]   \n",
    "    \n",
    "    #Recommending products with top predicted ratings\n",
    "    temp = temp.sort_values('user_predictions',ascending=False)#Sort the dataframe by user_predictions in descending order\n",
    "    print('\\nBelow are the recommended products for user(user_id = {}):\\n'.format(user_index))\n",
    "    print(temp['user_predictions'].head(num_recommendations))"
   ]
  },
  {
   "cell_type": "code",
   "execution_count": 94,
   "id": "5af05f6c",
   "metadata": {},
   "outputs": [
    {
     "name": "stdout",
     "output_type": "stream",
     "text": [
      "\n",
      "Below are the recommended products for user(user_id = 50):\n",
      "\n",
      "Recommended Products\n",
      "10344    0.661904\n",
      "10526    0.618749\n",
      "1067     0.613969\n",
      "9047     0.493971\n",
      "12472    0.425925\n",
      "14500    0.342541\n",
      "5313     0.342037\n",
      "3265     0.333793\n",
      "10227    0.332425\n",
      "11955    0.326777\n",
      "Name: user_predictions, dtype: float64\n"
     ]
    }
   ],
   "source": [
    "# Recommending top 10 products to user id 50\n",
    "\n",
    "recommend_items(50,final_ratings_sparse,preds_matrix,10)"
   ]
  },
  {
   "cell_type": "code",
   "execution_count": 95,
   "id": "4a425dfa",
   "metadata": {},
   "outputs": [
    {
     "name": "stdout",
     "output_type": "stream",
     "text": [
      "\n",
      "Below are the recommended products for user(user_id = 241):\n",
      "\n",
      "Recommended Products\n",
      "4392     0.153122\n",
      "14091    0.113174\n",
      "2591     0.109076\n",
      "2953     0.099100\n",
      "4563     0.096159\n",
      "7731     0.091722\n",
      "7103     0.084482\n",
      "3610     0.084364\n",
      "Name: user_predictions, dtype: float64\n"
     ]
    }
   ],
   "source": [
    "# Recommending top 8 products to user id 241\n",
    "\n",
    "recommend_items(241,final_ratings_sparse,preds_matrix,8)"
   ]
  },
  {
   "cell_type": "markdown",
   "id": "f0c3f726",
   "metadata": {},
   "source": [
    "# Evaluating the model"
   ]
  },
  {
   "cell_type": "code",
   "execution_count": 96,
   "id": "78b16ba1",
   "metadata": {},
   "outputs": [
    {
     "data": {
      "text/html": [
       "<div>\n",
       "<style scoped>\n",
       "    .dataframe tbody tr th:only-of-type {\n",
       "        vertical-align: middle;\n",
       "    }\n",
       "\n",
       "    .dataframe tbody tr th {\n",
       "        vertical-align: top;\n",
       "    }\n",
       "\n",
       "    .dataframe thead th {\n",
       "        text-align: right;\n",
       "    }\n",
       "</style>\n",
       "<table border=\"1\" class=\"dataframe\">\n",
       "  <thead>\n",
       "    <tr style=\"text-align: right;\">\n",
       "      <th>productid</th>\n",
       "      <th>1400501466</th>\n",
       "      <th>1400501520</th>\n",
       "      <th>1400501776</th>\n",
       "      <th>1400532620</th>\n",
       "      <th>1400532655</th>\n",
       "      <th>140053271X</th>\n",
       "      <th>1400599997</th>\n",
       "      <th>1400698987</th>\n",
       "      <th>1400699169</th>\n",
       "      <th>1685560148</th>\n",
       "      <th>...</th>\n",
       "      <th>B000I62PEU</th>\n",
       "      <th>B000I62PHC</th>\n",
       "      <th>B000I62WVQ</th>\n",
       "      <th>B000I634WC</th>\n",
       "      <th>B000I647VO</th>\n",
       "      <th>B000I64NTA</th>\n",
       "      <th>B000I661J0</th>\n",
       "      <th>B000I66DQQ</th>\n",
       "      <th>B000I67SIS</th>\n",
       "      <th>B000I68BD4</th>\n",
       "    </tr>\n",
       "    <tr>\n",
       "      <th>user_index</th>\n",
       "      <th></th>\n",
       "      <th></th>\n",
       "      <th></th>\n",
       "      <th></th>\n",
       "      <th></th>\n",
       "      <th></th>\n",
       "      <th></th>\n",
       "      <th></th>\n",
       "      <th></th>\n",
       "      <th></th>\n",
       "      <th></th>\n",
       "      <th></th>\n",
       "      <th></th>\n",
       "      <th></th>\n",
       "      <th></th>\n",
       "      <th></th>\n",
       "      <th></th>\n",
       "      <th></th>\n",
       "      <th></th>\n",
       "      <th></th>\n",
       "      <th></th>\n",
       "    </tr>\n",
       "  </thead>\n",
       "  <tbody>\n",
       "    <tr>\n",
       "      <th>0</th>\n",
       "      <td>0.0</td>\n",
       "      <td>0.0</td>\n",
       "      <td>0.0</td>\n",
       "      <td>0.0</td>\n",
       "      <td>0.0</td>\n",
       "      <td>0.0</td>\n",
       "      <td>0.0</td>\n",
       "      <td>0.0</td>\n",
       "      <td>0.0</td>\n",
       "      <td>0.0</td>\n",
       "      <td>...</td>\n",
       "      <td>0.0</td>\n",
       "      <td>0.0</td>\n",
       "      <td>0.0</td>\n",
       "      <td>0.0</td>\n",
       "      <td>0.0</td>\n",
       "      <td>0.0</td>\n",
       "      <td>0.0</td>\n",
       "      <td>0.0</td>\n",
       "      <td>0.0</td>\n",
       "      <td>0.0</td>\n",
       "    </tr>\n",
       "    <tr>\n",
       "      <th>1</th>\n",
       "      <td>0.0</td>\n",
       "      <td>0.0</td>\n",
       "      <td>0.0</td>\n",
       "      <td>0.0</td>\n",
       "      <td>0.0</td>\n",
       "      <td>0.0</td>\n",
       "      <td>0.0</td>\n",
       "      <td>0.0</td>\n",
       "      <td>0.0</td>\n",
       "      <td>0.0</td>\n",
       "      <td>...</td>\n",
       "      <td>0.0</td>\n",
       "      <td>0.0</td>\n",
       "      <td>0.0</td>\n",
       "      <td>0.0</td>\n",
       "      <td>0.0</td>\n",
       "      <td>0.0</td>\n",
       "      <td>0.0</td>\n",
       "      <td>0.0</td>\n",
       "      <td>0.0</td>\n",
       "      <td>0.0</td>\n",
       "    </tr>\n",
       "    <tr>\n",
       "      <th>2</th>\n",
       "      <td>0.0</td>\n",
       "      <td>0.0</td>\n",
       "      <td>0.0</td>\n",
       "      <td>0.0</td>\n",
       "      <td>0.0</td>\n",
       "      <td>0.0</td>\n",
       "      <td>0.0</td>\n",
       "      <td>0.0</td>\n",
       "      <td>0.0</td>\n",
       "      <td>0.0</td>\n",
       "      <td>...</td>\n",
       "      <td>0.0</td>\n",
       "      <td>0.0</td>\n",
       "      <td>0.0</td>\n",
       "      <td>0.0</td>\n",
       "      <td>0.0</td>\n",
       "      <td>0.0</td>\n",
       "      <td>0.0</td>\n",
       "      <td>0.0</td>\n",
       "      <td>0.0</td>\n",
       "      <td>0.0</td>\n",
       "    </tr>\n",
       "    <tr>\n",
       "      <th>3</th>\n",
       "      <td>0.0</td>\n",
       "      <td>0.0</td>\n",
       "      <td>0.0</td>\n",
       "      <td>0.0</td>\n",
       "      <td>0.0</td>\n",
       "      <td>0.0</td>\n",
       "      <td>0.0</td>\n",
       "      <td>0.0</td>\n",
       "      <td>0.0</td>\n",
       "      <td>0.0</td>\n",
       "      <td>...</td>\n",
       "      <td>0.0</td>\n",
       "      <td>0.0</td>\n",
       "      <td>0.0</td>\n",
       "      <td>0.0</td>\n",
       "      <td>0.0</td>\n",
       "      <td>0.0</td>\n",
       "      <td>0.0</td>\n",
       "      <td>0.0</td>\n",
       "      <td>0.0</td>\n",
       "      <td>0.0</td>\n",
       "    </tr>\n",
       "    <tr>\n",
       "      <th>4</th>\n",
       "      <td>0.0</td>\n",
       "      <td>0.0</td>\n",
       "      <td>0.0</td>\n",
       "      <td>0.0</td>\n",
       "      <td>0.0</td>\n",
       "      <td>0.0</td>\n",
       "      <td>0.0</td>\n",
       "      <td>0.0</td>\n",
       "      <td>0.0</td>\n",
       "      <td>0.0</td>\n",
       "      <td>...</td>\n",
       "      <td>0.0</td>\n",
       "      <td>0.0</td>\n",
       "      <td>0.0</td>\n",
       "      <td>0.0</td>\n",
       "      <td>0.0</td>\n",
       "      <td>0.0</td>\n",
       "      <td>0.0</td>\n",
       "      <td>0.0</td>\n",
       "      <td>0.0</td>\n",
       "      <td>0.0</td>\n",
       "    </tr>\n",
       "  </tbody>\n",
       "</table>\n",
       "<p>5 rows × 15583 columns</p>\n",
       "</div>"
      ],
      "text/plain": [
       "productid   1400501466  1400501520  1400501776  1400532620  1400532655  \\\n",
       "user_index                                                               \n",
       "0                  0.0         0.0         0.0         0.0         0.0   \n",
       "1                  0.0         0.0         0.0         0.0         0.0   \n",
       "2                  0.0         0.0         0.0         0.0         0.0   \n",
       "3                  0.0         0.0         0.0         0.0         0.0   \n",
       "4                  0.0         0.0         0.0         0.0         0.0   \n",
       "\n",
       "productid   140053271X  1400599997  1400698987  1400699169  1685560148  ...  \\\n",
       "user_index                                                              ...   \n",
       "0                  0.0         0.0         0.0         0.0         0.0  ...   \n",
       "1                  0.0         0.0         0.0         0.0         0.0  ...   \n",
       "2                  0.0         0.0         0.0         0.0         0.0  ...   \n",
       "3                  0.0         0.0         0.0         0.0         0.0  ...   \n",
       "4                  0.0         0.0         0.0         0.0         0.0  ...   \n",
       "\n",
       "productid   B000I62PEU  B000I62PHC  B000I62WVQ  B000I634WC  B000I647VO  \\\n",
       "user_index                                                               \n",
       "0                  0.0         0.0         0.0         0.0         0.0   \n",
       "1                  0.0         0.0         0.0         0.0         0.0   \n",
       "2                  0.0         0.0         0.0         0.0         0.0   \n",
       "3                  0.0         0.0         0.0         0.0         0.0   \n",
       "4                  0.0         0.0         0.0         0.0         0.0   \n",
       "\n",
       "productid   B000I64NTA  B000I661J0  B000I66DQQ  B000I67SIS  B000I68BD4  \n",
       "user_index                                                              \n",
       "0                  0.0         0.0         0.0         0.0         0.0  \n",
       "1                  0.0         0.0         0.0         0.0         0.0  \n",
       "2                  0.0         0.0         0.0         0.0         0.0  \n",
       "3                  0.0         0.0         0.0         0.0         0.0  \n",
       "4                  0.0         0.0         0.0         0.0         0.0  \n",
       "\n",
       "[5 rows x 15583 columns]"
      ]
     },
     "execution_count": 96,
     "metadata": {},
     "output_type": "execute_result"
    }
   ],
   "source": [
    "final_ratings_matrix['user_index'] = np.arange(0, final_ratings_matrix.shape[0])\n",
    "final_ratings_matrix.set_index(['user_index'], inplace=True)\n",
    "\n",
    "# Actual ratings given by users\n",
    "\n",
    "final_ratings_matrix.head()"
   ]
  },
  {
   "cell_type": "code",
   "execution_count": 97,
   "id": "164849b0",
   "metadata": {},
   "outputs": [
    {
     "data": {
      "text/plain": [
       "productid\n",
       "1400501466    0.004787\n",
       "1400501520    0.002176\n",
       "1400501776    0.002176\n",
       "1400532620    0.006527\n",
       "1400532655    0.013925\n",
       "dtype: float64"
      ]
     },
     "execution_count": 97,
     "metadata": {},
     "output_type": "execute_result"
    }
   ],
   "source": [
    "average_rating = final_ratings_matrix.mean()\n",
    "average_rating.head()"
   ]
  },
  {
   "cell_type": "code",
   "execution_count": 98,
   "id": "620db9c4",
   "metadata": {},
   "outputs": [
    {
     "data": {
      "text/html": [
       "<div>\n",
       "<style scoped>\n",
       "    .dataframe tbody tr th:only-of-type {\n",
       "        vertical-align: middle;\n",
       "    }\n",
       "\n",
       "    .dataframe tbody tr th {\n",
       "        vertical-align: top;\n",
       "    }\n",
       "\n",
       "    .dataframe thead th {\n",
       "        text-align: right;\n",
       "    }\n",
       "</style>\n",
       "<table border=\"1\" class=\"dataframe\">\n",
       "  <thead>\n",
       "    <tr style=\"text-align: right;\">\n",
       "      <th>productid</th>\n",
       "      <th>1400501466</th>\n",
       "      <th>1400501520</th>\n",
       "      <th>1400501776</th>\n",
       "      <th>1400532620</th>\n",
       "      <th>1400532655</th>\n",
       "      <th>140053271X</th>\n",
       "      <th>1400599997</th>\n",
       "      <th>1400698987</th>\n",
       "      <th>1400699169</th>\n",
       "      <th>1685560148</th>\n",
       "      <th>...</th>\n",
       "      <th>B000I62PEU</th>\n",
       "      <th>B000I62PHC</th>\n",
       "      <th>B000I62WVQ</th>\n",
       "      <th>B000I634WC</th>\n",
       "      <th>B000I647VO</th>\n",
       "      <th>B000I64NTA</th>\n",
       "      <th>B000I661J0</th>\n",
       "      <th>B000I66DQQ</th>\n",
       "      <th>B000I67SIS</th>\n",
       "      <th>B000I68BD4</th>\n",
       "    </tr>\n",
       "  </thead>\n",
       "  <tbody>\n",
       "    <tr>\n",
       "      <th>0</th>\n",
       "      <td>0.000151</td>\n",
       "      <td>0.006415</td>\n",
       "      <td>0.000476</td>\n",
       "      <td>0.011639</td>\n",
       "      <td>0.041123</td>\n",
       "      <td>0.009835</td>\n",
       "      <td>0.000962</td>\n",
       "      <td>0.006959</td>\n",
       "      <td>0.012601</td>\n",
       "      <td>0.006338</td>\n",
       "      <td>...</td>\n",
       "      <td>0.003919</td>\n",
       "      <td>0.001054</td>\n",
       "      <td>0.008166</td>\n",
       "      <td>0.000804</td>\n",
       "      <td>0.000390</td>\n",
       "      <td>0.003828</td>\n",
       "      <td>0.000567</td>\n",
       "      <td>0.018833</td>\n",
       "      <td>0.000123</td>\n",
       "      <td>0.060840</td>\n",
       "    </tr>\n",
       "    <tr>\n",
       "      <th>1</th>\n",
       "      <td>0.003983</td>\n",
       "      <td>0.002470</td>\n",
       "      <td>0.038079</td>\n",
       "      <td>0.021430</td>\n",
       "      <td>0.008916</td>\n",
       "      <td>0.008952</td>\n",
       "      <td>0.007381</td>\n",
       "      <td>0.002365</td>\n",
       "      <td>0.020328</td>\n",
       "      <td>0.016485</td>\n",
       "      <td>...</td>\n",
       "      <td>0.000376</td>\n",
       "      <td>0.001946</td>\n",
       "      <td>0.011040</td>\n",
       "      <td>0.001893</td>\n",
       "      <td>0.000287</td>\n",
       "      <td>0.011891</td>\n",
       "      <td>0.001346</td>\n",
       "      <td>0.014656</td>\n",
       "      <td>0.001065</td>\n",
       "      <td>0.089140</td>\n",
       "    </tr>\n",
       "    <tr>\n",
       "      <th>2</th>\n",
       "      <td>0.004650</td>\n",
       "      <td>0.000258</td>\n",
       "      <td>0.001375</td>\n",
       "      <td>0.003690</td>\n",
       "      <td>0.000447</td>\n",
       "      <td>0.000316</td>\n",
       "      <td>0.004492</td>\n",
       "      <td>0.000822</td>\n",
       "      <td>0.019153</td>\n",
       "      <td>0.011078</td>\n",
       "      <td>...</td>\n",
       "      <td>0.003691</td>\n",
       "      <td>0.000065</td>\n",
       "      <td>0.002883</td>\n",
       "      <td>0.000806</td>\n",
       "      <td>0.000295</td>\n",
       "      <td>0.006604</td>\n",
       "      <td>0.009263</td>\n",
       "      <td>0.000493</td>\n",
       "      <td>0.000036</td>\n",
       "      <td>0.007225</td>\n",
       "    </tr>\n",
       "    <tr>\n",
       "      <th>3</th>\n",
       "      <td>0.000736</td>\n",
       "      <td>0.003584</td>\n",
       "      <td>0.000610</td>\n",
       "      <td>0.006192</td>\n",
       "      <td>0.035541</td>\n",
       "      <td>0.001029</td>\n",
       "      <td>0.007413</td>\n",
       "      <td>0.004573</td>\n",
       "      <td>0.000232</td>\n",
       "      <td>0.000288</td>\n",
       "      <td>...</td>\n",
       "      <td>0.003167</td>\n",
       "      <td>0.001918</td>\n",
       "      <td>0.007900</td>\n",
       "      <td>0.001593</td>\n",
       "      <td>0.000767</td>\n",
       "      <td>0.004051</td>\n",
       "      <td>0.016033</td>\n",
       "      <td>0.002283</td>\n",
       "      <td>0.000530</td>\n",
       "      <td>0.010493</td>\n",
       "    </tr>\n",
       "    <tr>\n",
       "      <th>4</th>\n",
       "      <td>0.000084</td>\n",
       "      <td>0.001182</td>\n",
       "      <td>0.002891</td>\n",
       "      <td>0.008235</td>\n",
       "      <td>0.003606</td>\n",
       "      <td>0.035505</td>\n",
       "      <td>0.006928</td>\n",
       "      <td>0.000498</td>\n",
       "      <td>0.015937</td>\n",
       "      <td>0.005532</td>\n",
       "      <td>...</td>\n",
       "      <td>0.006063</td>\n",
       "      <td>0.000152</td>\n",
       "      <td>0.002709</td>\n",
       "      <td>0.023367</td>\n",
       "      <td>0.002168</td>\n",
       "      <td>0.007670</td>\n",
       "      <td>0.006613</td>\n",
       "      <td>0.001293</td>\n",
       "      <td>0.001283</td>\n",
       "      <td>0.067700</td>\n",
       "    </tr>\n",
       "  </tbody>\n",
       "</table>\n",
       "<p>5 rows × 15583 columns</p>\n",
       "</div>"
      ],
      "text/plain": [
       "productid  1400501466  1400501520  1400501776  1400532620  1400532655  \\\n",
       "0            0.000151    0.006415    0.000476    0.011639    0.041123   \n",
       "1            0.003983    0.002470    0.038079    0.021430    0.008916   \n",
       "2            0.004650    0.000258    0.001375    0.003690    0.000447   \n",
       "3            0.000736    0.003584    0.000610    0.006192    0.035541   \n",
       "4            0.000084    0.001182    0.002891    0.008235    0.003606   \n",
       "\n",
       "productid  140053271X  1400599997  1400698987  1400699169  1685560148  ...  \\\n",
       "0            0.009835    0.000962    0.006959    0.012601    0.006338  ...   \n",
       "1            0.008952    0.007381    0.002365    0.020328    0.016485  ...   \n",
       "2            0.000316    0.004492    0.000822    0.019153    0.011078  ...   \n",
       "3            0.001029    0.007413    0.004573    0.000232    0.000288  ...   \n",
       "4            0.035505    0.006928    0.000498    0.015937    0.005532  ...   \n",
       "\n",
       "productid  B000I62PEU  B000I62PHC  B000I62WVQ  B000I634WC  B000I647VO  \\\n",
       "0            0.003919    0.001054    0.008166    0.000804    0.000390   \n",
       "1            0.000376    0.001946    0.011040    0.001893    0.000287   \n",
       "2            0.003691    0.000065    0.002883    0.000806    0.000295   \n",
       "3            0.003167    0.001918    0.007900    0.001593    0.000767   \n",
       "4            0.006063    0.000152    0.002709    0.023367    0.002168   \n",
       "\n",
       "productid  B000I64NTA  B000I661J0  B000I66DQQ  B000I67SIS  B000I68BD4  \n",
       "0            0.003828    0.000567    0.018833    0.000123    0.060840  \n",
       "1            0.011891    0.001346    0.014656    0.001065    0.089140  \n",
       "2            0.006604    0.009263    0.000493    0.000036    0.007225  \n",
       "3            0.004051    0.016033    0.002283    0.000530    0.010493  \n",
       "4            0.007670    0.006613    0.001293    0.001283    0.067700  \n",
       "\n",
       "[5 rows x 15583 columns]"
      ]
     },
     "execution_count": 98,
     "metadata": {},
     "output_type": "execute_result"
    }
   ],
   "source": [
    "preds_df.head()"
   ]
  },
  {
   "cell_type": "code",
   "execution_count": 99,
   "id": "cb55db08",
   "metadata": {},
   "outputs": [
    {
     "data": {
      "text/plain": [
       "productid\n",
       "1400501466    0.002497\n",
       "1400501520    0.001412\n",
       "1400501776    0.003253\n",
       "1400532620    0.008436\n",
       "1400532655    0.018530\n",
       "dtype: float64"
      ]
     },
     "execution_count": 99,
     "metadata": {},
     "output_type": "execute_result"
    }
   ],
   "source": [
    "avg_preds=preds_df.mean()\n",
    "avg_preds.head()"
   ]
  },
  {
   "cell_type": "code",
   "execution_count": 100,
   "id": "05f528f4",
   "metadata": {},
   "outputs": [
    {
     "data": {
      "text/html": [
       "<div>\n",
       "<style scoped>\n",
       "    .dataframe tbody tr th:only-of-type {\n",
       "        vertical-align: middle;\n",
       "    }\n",
       "\n",
       "    .dataframe tbody tr th {\n",
       "        vertical-align: top;\n",
       "    }\n",
       "\n",
       "    .dataframe thead th {\n",
       "        text-align: right;\n",
       "    }\n",
       "</style>\n",
       "<table border=\"1\" class=\"dataframe\">\n",
       "  <thead>\n",
       "    <tr style=\"text-align: right;\">\n",
       "      <th></th>\n",
       "      <th>Avg_actual_ratings</th>\n",
       "      <th>Avg_predicted_ratings</th>\n",
       "    </tr>\n",
       "    <tr>\n",
       "      <th>productid</th>\n",
       "      <th></th>\n",
       "      <th></th>\n",
       "    </tr>\n",
       "  </thead>\n",
       "  <tbody>\n",
       "    <tr>\n",
       "      <th>1400501466</th>\n",
       "      <td>0.004787</td>\n",
       "      <td>0.002497</td>\n",
       "    </tr>\n",
       "    <tr>\n",
       "      <th>1400501520</th>\n",
       "      <td>0.002176</td>\n",
       "      <td>0.001412</td>\n",
       "    </tr>\n",
       "    <tr>\n",
       "      <th>1400501776</th>\n",
       "      <td>0.002176</td>\n",
       "      <td>0.003253</td>\n",
       "    </tr>\n",
       "    <tr>\n",
       "      <th>1400532620</th>\n",
       "      <td>0.006527</td>\n",
       "      <td>0.008436</td>\n",
       "    </tr>\n",
       "    <tr>\n",
       "      <th>1400532655</th>\n",
       "      <td>0.013925</td>\n",
       "      <td>0.018530</td>\n",
       "    </tr>\n",
       "  </tbody>\n",
       "</table>\n",
       "</div>"
      ],
      "text/plain": [
       "            Avg_actual_ratings  Avg_predicted_ratings\n",
       "productid                                            \n",
       "1400501466            0.004787               0.002497\n",
       "1400501520            0.002176               0.001412\n",
       "1400501776            0.002176               0.003253\n",
       "1400532620            0.006527               0.008436\n",
       "1400532655            0.013925               0.018530"
      ]
     },
     "execution_count": 100,
     "metadata": {},
     "output_type": "execute_result"
    }
   ],
   "source": [
    "rmse_df = pd.concat([average_rating, avg_preds], axis=1)\n",
    "\n",
    "rmse_df.columns = ['Avg_actual_ratings', 'Avg_predicted_ratings']\n",
    "\n",
    "rmse_df.head()"
   ]
  },
  {
   "cell_type": "code",
   "execution_count": 101,
   "id": "011ca6a4",
   "metadata": {},
   "outputs": [
    {
     "name": "stdout",
     "output_type": "stream",
     "text": [
      "RMSE SVD Model = 0.010694880192128699 \n",
      "\n"
     ]
    }
   ],
   "source": [
    "RMSE=mean_squared_error(rmse_df['Avg_actual_ratings'], rmse_df['Avg_predicted_ratings'], squared=False)\n",
    "print(f'RMSE SVD Model = {RMSE} \\n')"
   ]
  },
  {
   "cell_type": "code",
   "execution_count": null,
   "id": "a1c0cd2f",
   "metadata": {},
   "outputs": [],
   "source": []
  }
 ],
 "metadata": {
  "kernelspec": {
   "display_name": "Python 3 (ipykernel)",
   "language": "python",
   "name": "python3"
  },
  "language_info": {
   "codemirror_mode": {
    "name": "ipython",
    "version": 3
   },
   "file_extension": ".py",
   "mimetype": "text/x-python",
   "name": "python",
   "nbconvert_exporter": "python",
   "pygments_lexer": "ipython3",
   "version": "3.10.9"
  }
 },
 "nbformat": 4,
 "nbformat_minor": 5
}
